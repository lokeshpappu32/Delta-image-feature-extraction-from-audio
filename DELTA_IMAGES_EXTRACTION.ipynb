{
  "nbformat": 4,
  "nbformat_minor": 0,
  "metadata": {
    "colab": {
      "provenance": []
    },
    "kernelspec": {
      "name": "python3",
      "display_name": "Python 3"
    },
    "language_info": {
      "name": "python"
    }
  },
  "cells": [
    {
      "cell_type": "code",
      "execution_count": 2,
      "metadata": {
        "colab": {
          "base_uri": "https://localhost:8080/"
        },
        "id": "QwVMEz8MitwH",
        "outputId": "b9f20c2a-b232-430d-fb73-9ebde0d62395"
      },
      "outputs": [
        {
          "output_type": "stream",
          "name": "stdout",
          "text": [
            "Drive already mounted at /content/drive; to attempt to forcibly remount, call drive.mount(\"/content/drive\", force_remount=True).\n",
            "Total number of images: 750\n"
          ]
        }
      ],
      "source": [
        "from google.colab import drive\n",
        "import os\n",
        "import librosa\n",
        "import librosa.display\n",
        "import matplotlib.pyplot as plt\n",
        "import numpy as np\n",
        "\n",
        "# Mount Google Drive\n",
        "drive.mount('/content/drive')\n",
        "\n",
        "# Directory path of the folder in Google Drive\n",
        "folder_path = '/content/drive/MyDrive/Dataset Child/Female'\n",
        "\n",
        "# Output directory for saving images\n",
        "output_dir = '/content/drive/MyDrive/DELTA_CHILD_FEMALE_IMAGES'\n",
        "\n",
        "# Create the output directory if it doesn't exist\n",
        "if not os.path.exists(output_dir):\n",
        "    os.makedirs(output_dir)\n",
        "\n",
        "# Initialize a counter variable\n",
        "image_count = 0\n",
        "\n",
        "# Iterate over all files in the directory\n",
        "for filename in os.listdir(folder_path):\n",
        "    if filename.endswith('.wav'):\n",
        "        file_path = os.path.join(folder_path, filename)\n",
        "        \n",
        "        # Load the speech signal\n",
        "        signal, sr = librosa.load(file_path, sr=None)\n",
        "        \n",
        "        # Extract MFCC features\n",
        "        mfccs = librosa.feature.mfcc(y=signal, sr=sr, n_mfcc=13)\n",
        "        # Calculate delta features from MFCCs\n",
        "        delta_mfccs = librosa.feature.delta(mfccs)\n",
        "               # Calculate double delta features from MFCCs\n",
        "        double_delta_mfccs = librosa.feature.delta(mfccs, order=2)\n",
        "                # Concatenate the features\n",
        "        features = np.concatenate((mfccs, delta_mfccs, double_delta_mfccs), axis=0)\n",
        "        \n",
        "        # Plot the MFCC features as images\n",
        "        plt.figure(figsize=(10, 4))\n",
        "        librosa.display.specshow(features, x_axis='time')\n",
        "        plt.colorbar(format='%+2.0f dB')\n",
        "        plt.title('DELTA')\n",
        "        plt.tight_layout()\n",
        "        \n",
        "        # Save the image to the output directory with a new name\n",
        "        new_filename = f'Child-Female_{image_count}.png'\n",
        "        output_path = os.path.join(output_dir, new_filename)\n",
        "        plt.savefig(output_path)\n",
        "        plt.close()\n",
        "        \n",
        "        # Increment the image count\n",
        "        image_count += 1\n",
        "\n",
        "# Print the total number of images saved\n",
        "print(\"Total number of images:\", image_count)\n"
      ]
    },
    {
      "cell_type": "code",
      "source": [
        "from google.colab import drive\n",
        "\n",
        "# Mount Google Drive\n",
        "drive.mount('/content/drive')\n"
      ],
      "metadata": {
        "colab": {
          "base_uri": "https://localhost:8080/"
        },
        "id": "fWM8u-zBjRL-",
        "outputId": "895baba3-3d0c-46be-edce-011dec26b3ef"
      },
      "execution_count": 7,
      "outputs": [
        {
          "output_type": "stream",
          "name": "stdout",
          "text": [
            "Drive already mounted at /content/drive; to attempt to forcibly remount, call drive.mount(\"/content/drive\", force_remount=True).\n"
          ]
        }
      ]
    },
    {
      "cell_type": "code",
      "source": [
        "from google.colab import drive\n",
        "import os\n",
        "import librosa\n",
        "import librosa.display\n",
        "import matplotlib.pyplot as plt\n",
        "\n",
        "# Mount Google Drive\n",
        "drive.mount('/content/drive')\n",
        "\n",
        "# Directory path of the folder in Google Drive\n",
        "folder_path = '/content/drive/MyDrive/Dataset Child/Male'\n",
        "\n",
        "# Output directory for saving images\n",
        "output_dir = '/content/drive/MyDrive/DELTA_CHILD_MALE_IMAGES'\n",
        "\n",
        "# Create the output directory if it doesn't exist\n",
        "if not os.path.exists(output_dir):\n",
        "    os.makedirs(output_dir)\n",
        "\n",
        "# Initialize a counter variable\n",
        "image_count = 0\n",
        "\n",
        "# Iterate over all files in the directory\n",
        "for filename in os.listdir(folder_path):\n",
        "    if filename.endswith('.wav'):\n",
        "        file_path = os.path.join(folder_path, filename)\n",
        "        \n",
        "        # Load the speech signal\n",
        "        signal, sr = librosa.load(file_path, sr=None)\n",
        "        \n",
        "        # Extract MFCC features\n",
        "        mfccs = librosa.feature.mfcc(y=signal, sr=sr, n_mfcc=13)\n",
        "        # Calculate delta features from MFCCs\n",
        "        delta_mfccs = librosa.feature.delta(mfccs)\n",
        "               # Calculate double delta features from MFCCs\n",
        "        double_delta_mfccs = librosa.feature.delta(mfccs, order=2)\n",
        "                # Concatenate the features\n",
        "        features = np.concatenate((mfccs, delta_mfccs, double_delta_mfccs), axis=0)\n",
        "        \n",
        "        \n",
        "        # Plot the MFCC features as images\n",
        "        plt.figure(figsize=(10, 4))\n",
        "        librosa.display.specshow(features, x_axis='time')\n",
        "        plt.colorbar(format='%+2.0f dB')\n",
        "        plt.title('DELTA')\n",
        "        plt.tight_layout()\n",
        "        \n",
        "        # Save the image to the output directory with a new name\n",
        "        new_filename = f'Child-Male_{image_count}.png'\n",
        "        output_path = os.path.join(output_dir, new_filename)\n",
        "        plt.savefig(output_path)\n",
        "        plt.close()\n",
        "        \n",
        "        # Increment the image count\n",
        "        image_count += 1\n",
        "\n",
        "# Print the total number of images saved\n",
        "print(\"Total number of images:\", image_count)"
      ],
      "metadata": {
        "colab": {
          "base_uri": "https://localhost:8080/"
        },
        "id": "GejPOELujVgt",
        "outputId": "b706b780-ae74-4adb-df1c-1d68a52d78ba"
      },
      "execution_count": 8,
      "outputs": [
        {
          "output_type": "stream",
          "name": "stdout",
          "text": [
            "Drive already mounted at /content/drive; to attempt to forcibly remount, call drive.mount(\"/content/drive\", force_remount=True).\n",
            "Total number of images: 750\n"
          ]
        }
      ]
    },
    {
      "cell_type": "code",
      "source": [
        "from google.colab import drive\n",
        "import os\n",
        "import librosa\n",
        "import librosa.display\n",
        "import matplotlib.pyplot as plt\n",
        "\n",
        "# Mount Google Drive\n",
        "drive.mount('/content/drive')\n",
        "\n",
        "# Directory path of the folder in Google Drive\n",
        "folder_path = '/content/drive/MyDrive/Mozilla Dataset Adult/Female'\n",
        "\n",
        "# Output directory for saving images\n",
        "output_dir = '/content/drive/MyDrive/DELTA_ADULT_FEMALE_IMAGES'\n",
        "\n",
        "# Create the output directory if it doesn't exist\n",
        "if not os.path.exists(output_dir):\n",
        "    os.makedirs(output_dir)\n",
        "\n",
        "# Initialize a counter variable\n",
        "image_count = 0\n",
        "\n",
        "# Iterate over all files in the directory\n",
        "for filename in os.listdir(folder_path):\n",
        "    if filename.endswith('.mp3'):\n",
        "        file_path = os.path.join(folder_path, filename)\n",
        "        \n",
        "        # Load the speech signal\n",
        "        signal, sr = librosa.load(file_path, sr=None)\n",
        "        \n",
        "        # Extract MFCC features\n",
        "        mfccs = librosa.feature.mfcc(y=signal, sr=sr, n_mfcc=13)\n",
        "         # Calculate delta features from MFCCs\n",
        "        delta_mfccs = librosa.feature.delta(mfccs)\n",
        "               # Calculate double delta features from MFCCs\n",
        "        double_delta_mfccs = librosa.feature.delta(mfccs, order=2)\n",
        "                # Concatenate the features\n",
        "        features = np.concatenate((mfccs, delta_mfccs, double_delta_mfccs), axis=0)\n",
        "        \n",
        "        # Plot the MFCC features as images\n",
        "        plt.figure(figsize=(10, 4))\n",
        "        librosa.display.specshow(features, x_axis='time')\n",
        "        plt.colorbar(format='%+2.0f dB')\n",
        "        plt.title('DELTA')\n",
        "        plt.tight_layout()\n",
        "        \n",
        "        # Save the image to the output directory with a new name\n",
        "        new_filename = f'Adult-Female_{image_count}.png'\n",
        "        output_path = os.path.join(output_dir, new_filename)\n",
        "        plt.savefig(output_path)\n",
        "        plt.close()\n",
        "        \n",
        "        # Increment the image count\n",
        "        image_count += 1\n",
        "\n",
        "# Print the total number of images saved\n",
        "print(\"Total number of images:\", image_count)"
      ],
      "metadata": {
        "colab": {
          "base_uri": "https://localhost:8080/"
        },
        "id": "EmH4zPootlOL",
        "outputId": "4523e389-ed45-4b43-da7e-46aac7df5fa3"
      },
      "execution_count": 10,
      "outputs": [
        {
          "output_type": "stream",
          "name": "stdout",
          "text": [
            "Drive already mounted at /content/drive; to attempt to forcibly remount, call drive.mount(\"/content/drive\", force_remount=True).\n",
            "Total number of images: 750\n"
          ]
        }
      ]
    },
    {
      "cell_type": "code",
      "source": [
        "from google.colab import drive\n",
        "import os\n",
        "import librosa\n",
        "import librosa.display\n",
        "import matplotlib.pyplot as plt\n",
        "\n",
        "# Mount Google Drive\n",
        "drive.mount('/content/drive')\n",
        "\n",
        "# Directory path of the folder in Google Drive\n",
        "folder_path = '/content/drive/MyDrive/Mozilla Dataset Adult/Male'\n",
        "\n",
        "# Output directory for saving images\n",
        "output_dir = '/content/drive/MyDrive/DELTA_ADULT_MALE_IMAGES'\n",
        "\n",
        "# Create the output directory if it doesn't exist\n",
        "if not os.path.exists(output_dir):\n",
        "    os.makedirs(output_dir)\n",
        "\n",
        "# Initialize a counter variable\n",
        "image_count = 0\n",
        "\n",
        "# Iterate over all files in the directory\n",
        "for filename in os.listdir(folder_path):\n",
        "    if filename.endswith('.mp3'):\n",
        "        file_path = os.path.join(folder_path, filename)\n",
        "        \n",
        "        # Load the speech signal\n",
        "        signal, sr = librosa.load(file_path, sr=None)\n",
        "        \n",
        "        # Extract MFCC features\n",
        "        mfccs = librosa.feature.mfcc(y=signal, sr=sr, n_mfcc=13)\n",
        "        # Calculate delta features from MFCCs\n",
        "        delta_mfccs = librosa.feature.delta(mfccs)\n",
        "               # Calculate double delta features from MFCCs\n",
        "        double_delta_mfccs = librosa.feature.delta(mfccs, order=2)\n",
        "                # Concatenate the features\n",
        "        features = np.concatenate((mfccs, delta_mfccs, double_delta_mfccs), axis=0)\n",
        "        \n",
        "        \n",
        "        # Plot the MFCC features as images\n",
        "        plt.figure(figsize=(10, 4))\n",
        "        librosa.display.specshow(features, x_axis='time')\n",
        "        plt.colorbar(format='%+2.0f dB')\n",
        "        plt.title('DELTA')\n",
        "        plt.tight_layout()\n",
        "        \n",
        "        # Save the image to the output directory with a new name\n",
        "        new_filename = f'Adult-Male_{image_count}.png'\n",
        "        output_path = os.path.join(output_dir, new_filename)\n",
        "        plt.savefig(output_path)\n",
        "        plt.close()\n",
        "        \n",
        "        # Increment the image count\n",
        "        image_count += 1\n",
        "\n",
        "# Print the total number of images saved\n",
        "print(\"Total number of images:\", image_count)"
      ],
      "metadata": {
        "colab": {
          "base_uri": "https://localhost:8080/"
        },
        "id": "x9nTILoBvsSw",
        "outputId": "da485792-49ad-49c6-8bc9-c6df1bd4d9d4"
      },
      "execution_count": 9,
      "outputs": [
        {
          "output_type": "stream",
          "name": "stdout",
          "text": [
            "Drive already mounted at /content/drive; to attempt to forcibly remount, call drive.mount(\"/content/drive\", force_remount=True).\n",
            "Total number of images: 750\n"
          ]
        }
      ]
    },
    {
      "cell_type": "code",
      "source": [],
      "metadata": {
        "id": "pguoIFHxxNnL"
      },
      "execution_count": null,
      "outputs": []
    }
  ]
}